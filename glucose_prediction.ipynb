{
 "cells": [
  {
   "cell_type": "markdown",
   "id": "5ccbf99b",
   "metadata": {},
   "source": [
    "# Framingham Heart Disease Prediction Project"
   ]
  },
  {
   "cell_type": "markdown",
   "id": "92f21dcd",
   "metadata": {},
   "source": [
    "### 1. Load and explore data\n"
   ]
  },
  {
   "cell_type": "code",
   "execution_count": null,
   "id": "c055dce6",
   "metadata": {},
   "outputs": [],
   "source": [
    "import pandas as pd\n",
    "import numpy as np\n",
    "import matplotlib.pyplot as plt\n",
    "import seaborn as sns\n",
    "\n",
    "# Load the dataset\n",
    "df = pd.read_csv(\"framingham.csv\")\n",
    "\n",
    "# First few rows\n",
    "df.head()"
   ]
  },
  {
   "cell_type": "markdown",
   "id": "ff283be0",
   "metadata": {},
   "source": [
    "### 2. Clean Data"
   ]
  },
  {
   "cell_type": "code",
   "execution_count": null,
   "id": "29a90d9e",
   "metadata": {},
   "outputs": [],
   "source": [
    "# Check for missing values\n",
    "print(df.isnull().sum())\n",
    "\n",
    "# Drop rows with any nulls\n",
    "df_clean = df.dropna()\n",
    "\n",
    "# Confirm nulls are handled\n",
    "print(df_clean.isnull().sum())\n",
    "\n",
    "# Check data types\n",
    "df_clean.info()"
   ]
  },
  {
   "cell_type": "markdown",
   "id": "f7261d44",
   "metadata": {},
   "source": [
    "### 3. Visualize Glucose Distribution"
   ]
  },
  {
   "cell_type": "code",
   "execution_count": null,
   "id": "db5b3faf",
   "metadata": {},
   "outputs": [],
   "source": [
    "# Distribution of glucose\n",
    "plt.figure(figsize=(8, 5))\n",
    "sns.histplot(df_clean['glucose'], kde=True, bins=30, color='blue')\n",
    "plt.title('Glucose Distribution')\n",
    "plt.xlabel('Glucose')\n",
    "plt.ylabel('Frequency')\n",
    "plt.show()\n",
    "\n",
    "# Comparing glucose with heart disease\n",
    "plt.figure(figsize=(8, 5))\n",
    "sns.boxplot(x='TenYearCHD', y='glucose', data=df_clean)\n",
    "plt.title('Glucose Levels vs Heart Disease')\n",
    "plt.xlabel('Heart Disease (0 = No, 1 = Yes)')\n",
    "plt.ylabel('Glucose')\n",
    "plt.show()"
   ]
  },
  {
   "cell_type": "markdown",
   "id": "fbf7b7e6",
   "metadata": {},
   "source": [
    "### 4. Feature Selection"
   ]
  },
  {
   "cell_type": "code",
   "execution_count": null,
   "id": "9b99c882",
   "metadata": {},
   "outputs": [],
   "source": [
    "# Correlation matrix\n",
    "plt.figure(figsize=(12, 10))\n",
    "sns.heatmap(df_clean.corr(), annot=True, cmap='coolwarm')\n",
    "plt.title('Correlation Matrix')\n",
    "plt.show()\n",
    "\n",
    "# Features and target\n",
    "X = df_clean.drop('TenYearCHD', axis=1)\n",
    "y = df_clean['TenYearCHD']"
   ]
  },
  {
   "cell_type": "markdown",
   "id": "66e64278",
   "metadata": {},
   "source": [
    "### 5. Train Models"
   ]
  },
  {
   "cell_type": "code",
   "execution_count": null,
   "id": "b8a5a2e3",
   "metadata": {},
   "outputs": [],
   "source": [
    "from sklearn.model_selection import train_test_split\n",
    "from sklearn.preprocessing import StandardScaler\n",
    "from sklearn.linear_model import LogisticRegression\n",
    "from sklearn.tree import DecisionTreeClassifier\n",
    "from sklearn.ensemble import RandomForestClassifier\n",
    "\n",
    "# Train/test split\n",
    "X_train, X_test, y_train, y_test = train_test_split(X, y, test_size=0.2, random_state=42)\n",
    "\n",
    "# Scale\n",
    "scaler = StandardScaler()\n",
    "X_train = scaler.fit_transform(X_train)\n",
    "X_test = scaler.transform(X_test)\n",
    "\n",
    "# Train models\n",
    "log_model = LogisticRegression()\n",
    "tree_model = DecisionTreeClassifier()\n",
    "rf_model = RandomForestClassifier()\n",
    "\n",
    "log_model.fit(X_train, y_train)\n",
    "tree_model.fit(X_train, y_train)\n",
    "rf_model.fit(X_train, y_train)"
   ]
  },
  {
   "cell_type": "markdown",
   "id": "45ac58d9",
   "metadata": {},
   "source": [
    "### 6. Evaluate Models"
   ]
  },
  {
   "cell_type": "code",
   "execution_count": null,
   "id": "8369a14b",
   "metadata": {},
   "outputs": [],
   "source": [
    "from sklearn.metrics import classification_report, accuracy_score\n",
    "\n",
    "models = {\n",
    "    \"Logistic Regression\": log_model,\n",
    "    \"Decision Tree\": tree_model,\n",
    "    \"Random Forest\": rf_model\n",
    "}\n",
    "\n",
    "for name, model in models.items():\n",
    "    y_pred = model.predict(X_test)\n",
    "    print(f\"\\n{name} Results:\")\n",
    "    print(\"Accuracy:\", accuracy_score(y_test, y_pred))\n",
    "    print(classification_report(y_test, y_pred))"
   ]
  },
  {
   "cell_type": "markdown",
   "id": "f39ad8f8",
   "metadata": {},
   "source": [
    "### 7. Glucose Insight"
   ]
  },
  {
   "cell_type": "code",
   "execution_count": null,
   "id": "e88f048a",
   "metadata": {},
   "outputs": [],
   "source": [
    "# Group people by glucose ranges and see heart disease risk\n",
    "df_clean['glucose_range'] = pd.cut(df_clean['glucose'], bins=[0, 80, 100, 125, 200], labels=['Low', 'Normal', 'Pre-diabetic', 'High'])\n",
    "glucose_risk = df_clean.groupby('glucose_range')['TenYearCHD'].mean()\n",
    "\n",
    "print(\"Heart Disease Rate by Glucose Range:\")\n",
    "print(glucose_risk)"
   ]
  },
  {
   "cell_type": "markdown",
   "id": "e7780513",
   "metadata": {},
   "source": [
    "### 8. Feature Importance"
   ]
  },
  {
   "cell_type": "code",
   "execution_count": null,
   "id": "edc62539",
   "metadata": {},
   "outputs": [],
   "source": [
    "# Feature importances from Random Forest\n",
    "importances = rf_model.feature_importances_\n",
    "features = X.columns\n",
    "\n",
    "# Plot\n",
    "plt.figure(figsize=(10, 6))\n",
    "sns.barplot(x=importances, y=features)\n",
    "plt.title(\"Feature Importances (Random Forest)\")\n",
    "plt.show()"
   ]
  },
  {
   "cell_type": "markdown",
   "id": "bcbd95b0",
   "metadata": {},
   "source": [
    "## Conclusion\n",
    "The analysis on this dataset revealed that the Random Forest model performed well in predicting the 10-year risk of coronary heart disease. Also glucose was identified as a significant factor influencing the risk of heart disease."
   ]
  }
 ],
 "metadata": {
  "language_info": {
   "name": "python"
  }
 },
 "nbformat": 4,
 "nbformat_minor": 5
}
